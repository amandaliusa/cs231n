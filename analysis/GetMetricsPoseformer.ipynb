{
 "cells": [
  {
   "cell_type": "code",
   "execution_count": 1,
   "metadata": {},
   "outputs": [
    {
     "data": {
      "text/plain": [
       "'C:\\\\Users\\\\amanda\\\\Documents\\\\GitHub\\\\cs231n'"
      ]
     },
     "execution_count": 1,
     "metadata": {},
     "output_type": "execute_result"
    }
   ],
   "source": [
    "import git\n",
    "import sys\n",
    "\n",
    "repo = git.Repo(\"./\", search_parent_directories=True)\n",
    "homedir = repo.working_dir\n",
    " \n",
    "# setting path\n",
    "sys.path.append(homedir)\n",
    "\n",
    "%load_ext autoreload\n",
    "%autoreload 2\n",
    "from utils import *\n",
    "import os\n",
    "import numpy as np\n",
    "import pandas as pd\n",
    "import pickle\n",
    "import traceback\n",
    "from utils import videometa\n",
    "\n",
    "homedir"
   ]
  },
  {
   "cell_type": "code",
   "execution_count": 2,
   "metadata": {},
   "outputs": [
    {
     "data": {
      "text/plain": [
       "(1, 325, 17, 2)"
      ]
     },
     "execution_count": 2,
     "metadata": {},
     "output_type": "execute_result"
    }
   ],
   "source": [
    "processed_npz_path=\"{}/pretrained_models/poseformer/1ovgasC1/input_2D/\".format(homedir)\n",
    "res = np.load(\"{}/keypoints.npz\".format(processed_npz_path))['reconstruction']\n",
    "res.shape"
   ]
  },
  {
   "cell_type": "code",
   "execution_count": 3,
   "metadata": {},
   "outputs": [
    {
     "name": "stdout",
     "output_type": "stream",
     "text": [
      "[[171.34386  256.31653 ]\n",
      " [158.9295   260.97192 ]\n",
      " [196.17256  307.52573 ]\n",
      " [177.55103  350.97598 ]\n",
      " [183.75821  251.66115 ]\n",
      " [236.5192   285.80063 ]\n",
      " [211.69049  329.25085 ]\n",
      " [161.77441  213.6422  ]\n",
      " [169.27478  163.72615 ]\n",
      " [176.38718  140.70789 ]\n",
      " [171.34386  111.999695]\n",
      " [186.86179  164.76068 ]\n",
      " [221.00127  186.48581 ]\n",
      " [196.17256  189.58939 ]\n",
      " [140.30797  177.17503 ]\n",
      " [177.55103  208.21092 ]\n",
      " [202.37973  183.38222 ]]\n"
     ]
    }
   ],
   "source": [
    "print(res.reshape(325, 17, 2)[0])"
   ]
  },
  {
   "cell_type": "code",
   "execution_count": null,
   "metadata": {},
   "outputs": [],
   "source": [
    "process_subject_poseformer(\"1ovgasC1\", processed_npy_path=\"{}/pretrained_models/poseformer/1ovgasC1/input_2D/\".format(homedir), framerate=30)"
   ]
  }
 ],
 "metadata": {
  "kernelspec": {
   "display_name": "Python 3",
   "language": "python",
   "name": "python3"
  },
  "language_info": {
   "codemirror_mode": {
    "name": "ipython",
    "version": 3
   },
   "file_extension": ".py",
   "mimetype": "text/x-python",
   "name": "python",
   "nbconvert_exporter": "python",
   "pygments_lexer": "ipython3",
   "version": "3.8.5"
  }
 },
 "nbformat": 4,
 "nbformat_minor": 4
}
