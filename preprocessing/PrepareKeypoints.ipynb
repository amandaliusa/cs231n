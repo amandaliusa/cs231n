{
 "cells": [
  {
   "cell_type": "markdown",
   "metadata": {},
   "source": [
    "This notebook is based on an implementation from https://github.com/stanfordnmbl/sit2stand-analysis. "
   ]
  },
  {
   "cell_type": "code",
   "execution_count": 1,
   "metadata": {},
   "outputs": [
    {
     "data": {
      "text/plain": [
       "'C:\\\\Users\\\\amanda\\\\Documents\\\\GitHub\\\\cs231n'"
      ]
     },
     "execution_count": 1,
     "metadata": {},
     "output_type": "execute_result"
    }
   ],
   "source": [
    "import git\n",
    "repo = git.Repo(\"./\", search_parent_directories=True)\n",
    "homedir = repo.working_dir\n",
    "homedir"
   ]
  },
  {
   "cell_type": "code",
   "execution_count": 2,
   "metadata": {},
   "outputs": [],
   "source": [
    "import sys\n",
    " \n",
    "# setting path\n",
    "sys.path.append(homedir)"
   ]
  },
  {
   "cell_type": "code",
   "execution_count": 3,
   "metadata": {},
   "outputs": [],
   "source": [
    "import urllib.request\n",
    "import shutil\n",
    "import pathlib\n",
    "import csv\n",
    "import traceback\n",
    "\n",
    "%load_ext autoreload\n",
    "%autoreload 2\n",
    "from utils import *"
   ]
  },
  {
   "cell_type": "code",
   "execution_count": 4,
   "metadata": {},
   "outputs": [
    {
     "name": "stdout",
     "output_type": "stream",
     "text": [
      "383\n",
      "['ESzlIzyO', 'zN0O4jLu', 'nM7tQcBS', 'OuYG4U64', 'tFSyXitq', 'jasA5s93', 'a59COYtO', 'GjPHiGli', 'FFnomQTi', 'f0Ts7NJh', 'MVWT4FfX', 'WRgBWkBO', 'zbI7ifl8', 'ujkGAy6u', 'Kc2t70BJ', 'EHotqA24', '1G4rSy98', 'l230IPIW', 'hhg6N9lU', 'gbNgqUpT', 'DckqPvXh', 'ztKJoXiw', '4b23aG2i', 'MfzjZe52', 'SeLh3ENk', 'VN1pIYPc', 'R8eFySk4', 't86vURE5', 'M0sPVbHP', '0nUjlcd7', 'XVvERXzh', 'K3kAlO0U', 'P2CZntyu', 'UpNWCJ9a', 'ufQZNsiU', 'XkrRgefi', 'VPQJGG4D', 'm43FWyiY', 'bePyG1Du', 'mYXJQupd', 'd4F5xQy9', '4WBQNF9z', '5ghmRK1h', 'ut7ckdyI', 'eOBg4mwH', 'hKEWIYx3', 'X5kmXm2t', '1wXKj1Hr', 'YsYVO0J6', 'jD5WJNcX', 'gXhE9VUw', '02MJoCiL', 'O21FTG3F', 'F2FtnWVJ', 'iZF84FWQ', 'g9WGBFnV', 'o9xCf7YI', 's5WeVta1', 'q8FyLMSn', 'OelGSgE9', 'IpAvcDzr', 'vxlC5KaR', 'ahs2loij', 'L2GIBJN1', 'UWhrbKTC', '5k0NQN5p', 'ki0h6Zdb', 'iVGPuONf', 'zSWVNAon', 'ogsPBgBT', 'xWZi5URn', 'RJVU9j8P', 'we9IrnZq', '4RLH9WCs', 'oE7OaXfV', 'OioJ5LuN', 'ZAn8qhAb', 'PcUj1dc8', 'yMjX098h', 'UyccVGnu', 'PHr2f4TQ', 'k3YTjMU4', 'TQyNNoOf', 'zGObVmrM', 'ULS1fTmQ', '5illwZ0w', 'vJppbtm5', 'BFP7TMfA', '4Lm6PzX2', 'gkyOGI21', 'i9oVbbz6', 'osrCJbfp', 'MVZpHgro', 'hf11lq0l', 'OcZnQ9aZ', '8CHx7D0i', 'KmpRQuJD', 'dRN9a0uf', 'Zj2jtm25', 'y3ET3wKE', 'RFibHPt7', 'sUlatygS', 'XG46gE0Y', 'yt2AP5Lo', 'NCmOpQMW', 'BMBD4fpK', '4RF13po6', 'Cw8bz9tw', 'RhRnfeBp', 'nwg8qbmZ', 'DgMe11y3', 'RZ584xig', 'uBFpj4lx', 'nyRH10Bw', 'UZ9Vsj7D', 'ZyF5gFL7', 'RuSZ5rNP', 'JUvMRml6', 'g2W4FUSb', 'obDMup1i', 'nvvWjNuQ', 'EL0qvt0M', 'l58jyPMn', 'ovgMFqBi', 'dmWVXiPM', '6U6mieI8', '0B2dfO4b', '6PBhAWnI', 'sVBFurAm', 'C5LRwSjU', 'kGiGTaIW', 'JKDP8D2e', 'CCBwJuQg', 'Ar8WVEB8', 'xMJoV8Kz', 'kHl7BBo3', 'zIDgWdoU', 'CvpdKx9g', 'uwtiYEpw', 'nkcnBgOa', 'BvPM57u7', 'Aq75NMHO', 'w2Q5bJMv', 'Ybch0Nl3', 'caBwjxX8', 'VKW2KzGC', '4dh5A2nv', '5y8S8nC6', 'bR8vqmI1', '3nkxadKi', 'Ytlu6T69', 'yQpqLCPL', 'HA57ijek', 'woyjGsIt', 'RyeFHRQj', 'yKdKYz23', 'bOX5dXn8', 'x6NSfgSJ', 'arPGgOEf', 'yLg2ggAE', 'bFIh8shd', 'f8iKrVUp', 'h08bvb14', 'vLEhUnMj', 'RzvCZXa1', 'ZbuDvcLk', 'uSnrgTDe', 'KNaNAjLP', 'Jz7HcSm7', 'O2Kvv0GJ', 'dHsx22mJ', 'UmopdCFg', 'peruznFM', 'MSYVAPeM', 'dG40RNan', 'Qk66Dk9d', 'mxKQbPdW', 'byzUmGWJ', 'nyqYkUq8', 'FsNM5n5s', 'Di0gPE0H', 'SnYQMMBW', 'gQS9V6ab', '98l8KpqV', 'cr0mCZNx', 'RyGoZ15h', 'PJ2s4y3i', '3V48Be8p', 'YJWapbq3', 'GWB9Uvrb', 'U0NC3iwE', 'ZR3QAZmu', 'qiIHjZln', 'NCK9pYwX', 'iqQ28Zc4', 'jZibdOXF', 'he6ZJvyq', 'fihT2q9c', 'xEIsrkiR', 'ku64Cwle', 'DEsySNVw', 'N6l5Ci6H', 'HpYl7dTS', '2geyDTFU', '8elUiJYv', 'odbnl461', 'ry6fCSwK', 'Q0xDqlUa', 'x77WJ10Q', '6HTqE41x', 'cIvtHO4P', '8S2DLkDz', 'Abnitm4V', 'yXxNEYJT', 'fd7pMJua', '3sWbPSJv', 'HAKCEJWo', 'EzIx57IR', '8dLqK0KT', 'fvpJO6dv', 'egXfYcVu', 'yZHRUMz7', 'z8FFpnMp', 'pHIS8pPt', 'OPqAVdkO', '8qkEAiHL', 'pxr3J4Ow', 'T3aA8TCd', 'xgN0wuHW', 'knng8zJ7', 'Cr8FATng', 'WiKfwQG1', 'F6PuVthQ', 'tFbOCnVv', 'ucT4dryZ', 'nJNrFOAf', 'Or1k3cMJ', 'FDrWmipp', 'Awp7L46g', 'AA9IzAL1', 'CWf3eyvo', 'qhvy63Op', 'ZC5aJTK8', 'nqtTzjoP', 'qpxWRSOP', 'fLfdcR9Z', 'j3iTbhie', 'bb8G8L2i', 'ebjrMM53', 'G0vvcncN', '1O18MObh', '0Srk33xU', 'wQKnlZmx', 'B0Su5xdm', 'J8qdjHy8', 'GESYi2xq', 'dpphCSNb', 'jDDqCwxU', 'jqIKMt9a', 'WxIscnh0', 'pA5ISzHH', 'DmezZ8gC', 'w2e3O8Lh', '8t6W3ykG', 'kEC7G8DP', 'FWDyTLr2', 'LGqwZPty', 'EuMyzKCY', 'JFoDIM9T', 'e13bsM5a', 'g5sxqMgO', 'POQZgYEM', 'kbOfCieZ', 'I3OdhHne', 'Jbr8myiV', 'FDzVFOBn', 'AVXJQX9B', 'C5W4TIo7', 'scqtqhQi', 'Je470A3u', 'P5wlKd0H', 'vbBOikks', 'MeABXs62', 'PftjeXxz', 'xM4HMws8', '3E8qiyD2', 'tJBmYuB7', 'iIzgYYRS', 'nGyTDr5q', 'A5ya7RsN', 'Sh2ZCYBZ', 'W0BHMtXT', 'VPAqPZQI', 'qUI9PiJS', 'Rxka2Dfe', 'VEBURFuk', '4OQQyQYB', 'QNEd2eGX', 'Dkjr9F7k', 'ePyMog6n', 'GLKexPjc', 'PVhE1xsN', '7Vgougy8', 'oSFbRH4g', 'K7pXSGJ9', 'HWfZASLi', 'mMfeNBCP', 'maugZAlg', 'DHAxflfI', 'LAervIgm', 'XxnpBqCk', 'yzutrWiF', 'lxLc4Sek', 'icUtiB0b', 'g1eKN8fK', 'GboPBbli', 'KHDHZ4c5', '18Ojgzwr', 'hsX5kAeZ', '5msHe2ZM', 'ydqOOaks', 'kFPZtJof', '15IPa5iS', 'jtNISX4F', 'GITsdVy7', 'gudwNnwN', 'QJ2012XI', 'AnEq8Uph', 'QLZHPS8I', 'iJsDlll8', 'Wyg30nvk', 'H1SDVD0X', '9Ex5Byum', 'xvPEk4QE', 'hxJw9Wjr', 'ySEYmd1c', 'a6j4D1CL', 'bYuhoS4X', 'ekZNvuex', 'JoT31ute', '47x9mXqX', 'XbdRrkxS', 'ZK2JlJsq', 'JOmsdP6A', 'MD7hICzN', 'zkO4XPXQ', 'zvYmZ0SS', 'pmYdj2Zc', 'oDGL8XpK', '1y68rPwI', 'Y2Mijmxk', 'erdKOQ7X', 'zgGJNHuU', 'gZry6Nal', 'JNh9mTC7', 'oluI9aqT', 'GwvQ3hpI', 'DVmTCuSO', 'CAMRbQ1K', 'MKMvRw1P', 'Ni69ryle', 'uQaqBtOs', 'pL2bL6bG', '89hcos29', 'jS1r3uGd', 'a2SHGIQT', 'PhCyuRvo', 'mgKwPHtm', '1ovgasC1', 'Ycmah3Py', '2SV6hYB2', '6MFubdNK', 'g84PP6lh', 'PA4bXBlr', 'EQSaAnPk', 'v8Q5mj77', 'gO7Cpt1X', 'en9ir5DJ', 'bqTsXpKl', 'UDXlpEgF', 'b632WDpF', 'ybGzWMPA', 'KyINSk8e']\n"
     ]
    }
   ],
   "source": [
    "# Get a list of all videos\n",
    "with open(\"{}/data/video_links.csv\".format(homedir), \"r\") as f:\n",
    "    videos = [l.split(\",\")[0].strip()[:-4] for l in f.readlines()]\n",
    "    videos = list(filter(lambda x: len(x) > 1,videos))\n",
    "\n",
    "print(len(videos))\n",
    "print(videos)"
   ]
  },
  {
   "cell_type": "code",
   "execution_count": 10,
   "metadata": {},
   "outputs": [],
   "source": [
    "# Download keypoints of a given subject\n",
    "def download_subject(slug):\n",
    "    print(slug)\n",
    "    target_path = \"{}/videos/keypoints/{}\".format(homedir, slug)\n",
    "    if os.path.exists(target_path):\n",
    "        print(\"{} exists\".format(target_path))\n",
    "        return\n",
    "    filepath = \"/tmp/{}.tar.gz\".format(slug)\n",
    "    url = \"https://mc-motionlab-storage.s3.us-west-2.amazonaws.com/media/outputs/{}/output.tar.gz\".format(slug)\n",
    "    print(url)\n",
    "    urllib.request.urlretrieve(url, filepath)\n",
    "    \n",
    "    os.makedirs(\"/tmp/{}\".format(slug), exist_ok=True)\n",
    "    os.system(\"tar -zxvf {} -C /tmp/{}\".format(filepath, slug))   \n",
    "    \n",
    "    shutil.move(\"/tmp/{}/output/keypoints\".format(slug), target_path)"
   ]
  },
  {
   "cell_type": "code",
   "execution_count": 12,
   "metadata": {},
   "outputs": [
    {
     "name": "stdout",
     "output_type": "stream",
     "text": [
      "0B2dfO4b\n",
      "C:\\Users\\amanda\\Documents\\GitHub\\cs231n/videos/keypoints/0B2dfO4b exists\n"
     ]
    }
   ],
   "source": [
    "# Download all subjects\n",
    "for video in videos:\n",
    "    try:\n",
    "        download_subject(video)\n",
    "    except:\n",
    "        print(\"Error: \" + video)\n",
    "        traceback.print_exc()"
   ]
  },
  {
   "cell_type": "code",
   "execution_count": 8,
   "metadata": {},
   "outputs": [],
   "source": [
    "# Convert to numpy arrays and save locally\n",
    "os.makedirs(\"{}/videos/np\".format(homedir), exist_ok=True)\n",
    "\n",
    "for subjectid in videos:\n",
    "    try:\n",
    "        res = json2np(\"{}/videos/keypoints/{}\".format(homedir, subjectid), subjectid)\n",
    "        np.save(\"{}/videos/np/{}.npy\".format(homedir, subjectid), res)\n",
    "    except:\n",
    "        print(\"error \" + subjectid)"
   ]
  }
 ],
 "metadata": {
  "kernelspec": {
   "display_name": "Python 3",
   "language": "python",
   "name": "python3"
  },
  "language_info": {
   "codemirror_mode": {
    "name": "ipython",
    "version": 3
   },
   "file_extension": ".py",
   "mimetype": "text/x-python",
   "name": "python",
   "nbconvert_exporter": "python",
   "pygments_lexer": "ipython3",
   "version": "3.8.5"
  }
 },
 "nbformat": 4,
 "nbformat_minor": 4
}
