{
 "cells": [
  {
   "cell_type": "code",
   "execution_count": 1,
   "id": "6fe63284",
   "metadata": {
    "scrolled": true
   },
   "outputs": [],
   "source": [
    "# Setup\n",
    "import pandas as pd\n",
    "import numpy as np"
   ]
  },
  {
   "cell_type": "code",
   "execution_count": null,
   "id": "fd899341",
   "metadata": {},
   "outputs": [],
   "source": [
    "# Placeholder to load Openpose data"
   ]
  },
  {
   "cell_type": "code",
   "execution_count": 6,
   "id": "a6ce8c83",
   "metadata": {},
   "outputs": [
    {
     "name": "stdout",
     "output_type": "stream",
     "text": [
      "[29.97003   5.       18.752068 -0.275275  0.27    ]\n"
     ]
    }
   ],
   "source": [
    "# Create a numpy array containing all the calculated features from the original paper\n",
    "# Exclude fields 0 and 1 (identifiers), 2 (orientation) and 537+ (survey data)\n",
    "df = pd.read_csv(r'https://raw.githubusercontent.com/amandaliusa/cs231n/main/results/dataClean_text.csv')\n",
    "calc_features = df.iloc[:,3:537].to_numpy(dtype=np.float32)\n",
    "print(calc_features[0,:5])"
   ]
  },
  {
   "cell_type": "code",
   "execution_count": null,
   "id": "6551e07e",
   "metadata": {},
   "outputs": [],
   "source": [
    "# Placeholder to load survey data"
   ]
  },
  {
   "cell_type": "code",
   "execution_count": null,
   "id": "c9405a4e",
   "metadata": {},
   "outputs": [],
   "source": [
    "# Placeholder for data loader"
   ]
  },
  {
   "cell_type": "code",
   "execution_count": null,
   "id": "da44cbf7",
   "metadata": {},
   "outputs": [],
   "source": [
    "# Placeholder for barebones model"
   ]
  },
  {
   "cell_type": "code",
   "execution_count": null,
   "id": "76fb27dc",
   "metadata": {},
   "outputs": [],
   "source": [
    "# Placeholder for model visualization"
   ]
  }
 ],
 "metadata": {
  "kernelspec": {
   "display_name": "Python 3 (ipykernel)",
   "language": "python",
   "name": "python3"
  },
  "language_info": {
   "codemirror_mode": {
    "name": "ipython",
    "version": 3
   },
   "file_extension": ".py",
   "mimetype": "text/x-python",
   "name": "python",
   "nbconvert_exporter": "python",
   "pygments_lexer": "ipython3",
   "version": "3.11.3"
  }
 },
 "nbformat": 4,
 "nbformat_minor": 5
}
